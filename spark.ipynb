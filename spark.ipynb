{
 "cells": [
  {
   "cell_type": "markdown",
   "id": "01731676",
   "metadata": {},
   "source": [
    "# Spark \n",
    "\n",
    "#### Purpose: \n",
    "To pull quickly pull out data from excel sheets without the hassle of hunting it yourself. \n",
    "\n",
    "#### Instructions: \n",
    "1. Place files into local drives (OneDrive works as well). **Note**: Make sure there is only 1. \n",
    "2. Input Spark ID. \n",
    "3. Click `Cell` and `Run All`\n",
    "\n",
    "#### Future: \n",
    "Calculate the data and push out full dataframe and create a heatmap for quick and easy visual. "
   ]
  },
  {
   "cell_type": "code",
   "execution_count": 3,
   "id": "1f3d46dd",
   "metadata": {},
   "outputs": [],
   "source": [
    "# input name - File must be local or in GH One Drive\n",
    "SparkID = \"2564_kk10\""
   ]
  },
  {
   "cell_type": "code",
   "execution_count": 4,
   "id": "9fdbbb40",
   "metadata": {},
   "outputs": [
    {
     "name": "stdout",
     "output_type": "stream",
     "text": [
      "       abs260  abs320\n",
      "Wells                \n",
      "A1     0.1224  0.0442\n",
      "B1     0.1228  0.0447\n",
      "C1     0.1235  0.0440\n",
      "D1     0.1253  0.0461\n",
      "E1     0.1234  0.0452\n",
      "F1     0.1247  0.0438\n",
      "G1     0.1230  0.0446\n",
      "H1     0.1260  0.0449\n",
      "A2     0.1264  0.0446\n",
      "B2     0.1236  0.0443\n",
      "C2     0.1270  0.0447\n",
      "D2     0.1251  0.0445\n",
      "E2     0.1231  0.0437\n",
      "F2     0.1247  0.0447\n",
      "G2     0.1246  0.0441\n",
      "H2     0.1304  0.0447\n",
      "A3     0.1260  0.0443\n",
      "B3     0.1391  0.0541\n",
      "C3     0.1252  0.0444\n",
      "D3     0.1188  0.0438\n",
      "E3     0.1259  0.0441\n",
      "F3     0.1228  0.0438\n",
      "G3     0.1264  0.0442\n",
      "H3     0.1309  0.0488\n",
      "A4     0.1231  0.0444\n",
      "B4     0.1313  0.0490\n",
      "C4     0.1250  0.0448\n",
      "D4     0.1239  0.0441\n",
      "E4     0.1273  0.0447\n",
      "F4     0.1233  0.0438\n",
      "G4     0.1265  0.0440\n",
      "H4     0.1262  0.0442\n",
      "A5     0.1264  0.0448\n",
      "B5     0.1243  0.0438\n",
      "C5     0.1314  0.0478\n",
      "D5     0.1250  0.0439\n",
      "E5     0.1237  0.0438\n",
      "F5     0.1281  0.0446\n",
      "G5     0.1275  0.0442\n",
      "H5     0.1291  0.0438\n",
      "A6     0.1245  0.0443\n",
      "B6     0.1257  0.0444\n",
      "C6     0.1349  0.0485\n",
      "D6     0.1366  0.0517\n",
      "E6     0.1268  0.0440\n",
      "F6     0.1249  0.0437\n",
      "G6     0.1327  0.0465\n",
      "H6     0.1287  0.0445\n"
     ]
    }
   ],
   "source": [
    "import pandas as pd\n",
    "import os\n",
    "\n",
    "# find file within local directories\n",
    "filepath = \"/Users/\"\n",
    "\n",
    "for root, dirs, files in os.walk(filepath):\n",
    "    for file in files:\n",
    "        if (SparkID + \".xlsx\") in file:\n",
    "            sparkFile = (os.path.join(root, file))\n",
    "\n",
    "spark_data = pd.read_excel(sparkFile)\n",
    "\n",
    "\n",
    "# function to pull out 260/320 abs\n",
    "def colAbs(raw_spark):\n",
    "    index260 = []\n",
    "    index320 = []\n",
    "    wells = []\n",
    "    for names in raw_spark.iloc[35:(35 + 48), 0]:\n",
    "        wells.append(names)\n",
    "    for n260 in raw_spark.iloc[146:(146 + 48), 1]:\n",
    "        index260.append(n260)\n",
    "    for n320 in raw_spark.iloc[368:(368 + 48), 1]:\n",
    "        index320.append(n320)\n",
    "    # create one dataframe\n",
    "    df = {\"Wells\": wells,\n",
    "                 \"abs260\": index260,\n",
    "                 \"abs320\": index320}\n",
    "    df = pd.DataFrame(df)\n",
    "    df = df.set_index(\"Wells\")\n",
    "    print(df)\n",
    "    \n",
    "colAbs(spark_data)"
   ]
  }
 ],
 "metadata": {
  "kernelspec": {
   "display_name": "Python 3",
   "language": "python",
   "name": "python3"
  },
  "language_info": {
   "codemirror_mode": {
    "name": "ipython",
    "version": 3
   },
   "file_extension": ".py",
   "mimetype": "text/x-python",
   "name": "python",
   "nbconvert_exporter": "python",
   "pygments_lexer": "ipython3",
   "version": "3.9.5"
  }
 },
 "nbformat": 4,
 "nbformat_minor": 5
}
