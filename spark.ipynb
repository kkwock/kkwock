{
 "cells": [
  {
   "cell_type": "markdown",
   "id": "1b12ca3c",
   "metadata": {},
   "source": [
    "# Spark \n",
    "\n",
    "#### Purpose: \n",
    "To pull quickly pull out data from excel sheets without the hassle of hunting it yourself. \n",
    "\n",
    "#### Instructions: \n",
    "1. Place files into local drives (OneDrive works as well). **Note**: Make sure there is only 1. \n",
    "2. Input Spark ID. \n",
    "3. Click `Cell` and `Run All`\n",
    "\n",
    "#### Future: \n",
    "Calculate the data and push out full dataframe and create a heatmap for quick and easy visual. "
   ]
  },
  {
   "cell_type": "code",
   "execution_count": null,
   "id": "4d578e09",
   "metadata": {},
   "outputs": [],
   "source": [
    "# input name - File must be local or in GH One Drive\n",
    "SparkID = \"2564_kk10\""
   ]
  },
  {
   "cell_type": "code",
   "execution_count": 2,
   "id": "ebd1672b",
   "metadata": {},
   "outputs": [
    {
     "name": "stdout",
     "output_type": "stream",
     "text": [
      "       abs260  abs320\n",
      "Wells                \n",
      "A1     0.1664  0.0442\n",
      "B1     0.1669  0.0447\n",
      "C1     0.1662  0.0440\n",
      "D1     0.1715  0.0461\n",
      "E1     0.1669  0.0452\n",
      "F1     0.1677  0.0438\n",
      "G1     0.1676  0.0446\n",
      "H1     0.1738  0.0449\n",
      "A2     0.1687  0.0446\n",
      "B2     0.1690  0.0443\n",
      "C2     0.1688  0.0447\n",
      "D2     0.1673  0.0445\n",
      "E2     0.1672  0.0437\n",
      "F2     0.1691  0.0447\n",
      "G2     0.1679  0.0441\n",
      "H2     0.1771  0.0447\n",
      "A3     0.1689  0.0443\n",
      "B3     0.1854  0.0541\n",
      "C3     0.1686  0.0444\n",
      "D3     0.1624  0.0438\n",
      "E3     0.1685  0.0441\n",
      "F3     0.1668  0.0438\n",
      "G3     0.1689  0.0442\n",
      "H3     0.1742  0.0488\n",
      "A4     0.1679  0.0444\n",
      "B4     0.1782  0.0490\n",
      "C4     0.1688  0.0448\n",
      "D4     0.1672  0.0441\n",
      "E4     0.1706  0.0447\n",
      "F4     0.1671  0.0438\n",
      "G4     0.1684  0.0440\n",
      "H4     0.1707  0.0442\n",
      "A5     0.1756  0.0448\n",
      "B5     0.1688  0.0438\n",
      "C5     0.1754  0.0478\n",
      "D5     0.1681  0.0439\n",
      "E5     0.1661  0.0438\n",
      "F5     0.1712  0.0446\n",
      "G5     0.1701  0.0442\n",
      "H5     0.1706  0.0438\n",
      "A6     0.1700  0.0443\n",
      "B6     0.1727  0.0444\n",
      "C6     0.1780  0.0485\n",
      "D6     0.1811  0.0517\n",
      "E6     0.1684  0.0440\n",
      "F6     0.1667  0.0437\n",
      "G6     0.1772  0.0465\n",
      "H6     0.1743  0.0445\n"
     ]
    }
   ],
   "source": [
    "import pandas as pd\n",
    "import os\n",
    "\n",
    "# find file within local directories\n",
    "filepath = \"/Users/\"\n",
    "\n",
    "for root, dirs, files in os.walk(filepath):\n",
    "    for file in files:\n",
    "        if (SparkID + \".xlsx\") in file:\n",
    "            sparkFile = (os.path.join(root, file))\n",
    "\n",
    "spark_data = pd.read_excel(sparkFile)\n",
    "\n",
    "\n",
    "# function to pull out 260/320 abs\n",
    "\n",
    "def colAbs(raw_spark):\n",
    "    index260 = []\n",
    "    index320 = []\n",
    "    wells = []\n",
    "    for names in spark_data.iloc[35:(35 + 48), 0]:\n",
    "        wells.append(names)\n",
    "    for n260 in spark_data.iloc[35:(35 + 48), 1]:\n",
    "        index260.append(n260)\n",
    "    for n320 in spark_data.iloc[368:(368 + 48), 1]:\n",
    "        index320.append(n320)\n",
    "    # create one dataframe\n",
    "    df = {\"Wells\": wells,\n",
    "                 \"abs260\": index260,\n",
    "                 \"abs320\": index320}\n",
    "    df = pd.DataFrame(df)\n",
    "    df = df.set_index(\"Wells\")\n",
    "    print(df)\n",
    "    \n",
    "colAbs(spark_data)"
   ]
  }
 ],
 "metadata": {
  "kernelspec": {
   "display_name": "Python 3",
   "language": "python",
   "name": "python3"
  },
  "language_info": {
   "codemirror_mode": {
    "name": "ipython",
    "version": 3
   },
   "file_extension": ".py",
   "mimetype": "text/x-python",
   "name": "python",
   "nbconvert_exporter": "python",
   "pygments_lexer": "ipython3",
   "version": "3.9.5"
  }
 },
 "nbformat": 4,
 "nbformat_minor": 5
}
